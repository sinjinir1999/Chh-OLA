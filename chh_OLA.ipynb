{
  "nbformat": 4,
  "nbformat_minor": 0,
  "metadata": {
    "colab": {
      "name": "chh OLA.ipynb",
      "provenance": []
    },
    "kernelspec": {
      "name": "python3",
      "display_name": "Python 3"
    },
    "accelerator": "GPU"
  },
  "cells": [
    {
      "cell_type": "code",
      "metadata": {
        "id": "tQirtJ7LAfI9"
      },
      "source": [
        "import numpy as np\n",
        "import pandas as pd\n",
        "import datetime as dt\n",
        "from sklearn import metrics\n",
        "from sklearn.model_selection import train_test_split\n",
        "import warnings; warnings.simplefilter('ignore')"
      ],
      "execution_count": null,
      "outputs": []
    },
    {
      "cell_type": "code",
      "metadata": {
        "id": "TMGUM6qDHWlA"
      },
      "source": [
        "data=pd.read_csv(\"train.csv\")\n",
        "test=pd.read_csv(\"test.csv\")"
      ],
      "execution_count": null,
      "outputs": []
    },
    {
      "cell_type": "code",
      "metadata": {
        "id": "aZqxV5A0aPSb",
        "outputId": "fef652f5-7349-4d84-e59b-839c68e56405",
        "colab": {
          "base_uri": "https://localhost:8080/",
          "height": 319
        }
      },
      "source": [
        "data.isnull().sum()"
      ],
      "execution_count": null,
      "outputs": [
        {
          "output_type": "execute_result",
          "data": {
            "text/plain": [
              "ID                        0\n",
              "vendor+AF8-id             0\n",
              "pickup+AF8-loc            1\n",
              "drop+AF8-loc              1\n",
              "driver+AF8-tip            2\n",
              "mta+AF8-tax               1\n",
              "distance                  1\n",
              "pickup+AF8-time           1\n",
              "drop+AF8-time             1\n",
              "num+AF8-passengers        1\n",
              "toll+AF8-amount           2\n",
              "payment+AF8-method        1\n",
              "rate+AF8-code             1\n",
              "stored+AF8-flag           1\n",
              "extra+AF8-charges         1\n",
              "improvement+AF8-charge    2\n",
              "total+AF8-amount          2\n",
              "dtype: int64"
            ]
          },
          "metadata": {
            "tags": []
          },
          "execution_count": 4
        }
      ]
    },
    {
      "cell_type": "code",
      "metadata": {
        "id": "Wb1MnC9wKvBe",
        "outputId": "3cf5c44f-f06f-4d49-eabd-e03dd88019ea",
        "colab": {
          "base_uri": "https://localhost:8080/",
          "height": 118
        }
      },
      "source": [
        "data.columns"
      ],
      "execution_count": null,
      "outputs": [
        {
          "output_type": "execute_result",
          "data": {
            "text/plain": [
              "Index(['ID', 'vendor+AF8-id', 'pickup+AF8-loc', 'drop+AF8-loc',\n",
              "       'driver+AF8-tip', 'mta+AF8-tax', 'distance', 'pickup+AF8-time',\n",
              "       'drop+AF8-time', 'num+AF8-passengers', 'toll+AF8-amount',\n",
              "       'payment+AF8-method', 'rate+AF8-code', 'stored+AF8-flag',\n",
              "       'extra+AF8-charges', 'improvement+AF8-charge', 'total+AF8-amount'],\n",
              "      dtype='object')"
            ]
          },
          "metadata": {
            "tags": []
          },
          "execution_count": 5
        }
      ]
    },
    {
      "cell_type": "code",
      "metadata": {
        "id": "ZCXOpeSMK5xP"
      },
      "source": [
        "data.rename(columns = {'vendor+AF8-id': \"vendor_id\",\n",
        "                        'pickup+AF8-loc': \"pickup_loc\",\n",
        "                        'drop+AF8-loc' : \"drop_loc\",\n",
        "                        'driver+AF8-tip': \"driver_tip\", \n",
        "                        'mta+AF8-tax' : \"mta_tax\",\n",
        "                        'pickup+AF8-time' : \"pickup_time\",\n",
        "                        'drop+AF8-time' : \"drop_time\", \n",
        "                        'num+AF8-passengers' : \"num_passengers\",\n",
        "                        'toll+AF8-amount' : \"toll_amount\",\n",
        "                        'payment+AF8-method' : \"payment_method\",\n",
        "                        'rate+AF8-code' : \"rate_code\",\n",
        "                        'stored+AF8-flag' : \"stored_flag\",\n",
        "                        'extra+AF8-charges' : \"extra_charges\",\n",
        "                        'improvement+AF8-charge' : \"improvement_charge\",\n",
        "                        'total+AF8-amount': \"total_amount\"\n",
        "                        }, inplace = True)"
      ],
      "execution_count": null,
      "outputs": []
    },
    {
      "cell_type": "code",
      "metadata": {
        "id": "xvdN09EtNd3z",
        "outputId": "29e21cb6-e8d8-43e3-f6fc-050492b56b52",
        "colab": {
          "base_uri": "https://localhost:8080/",
          "height": 34
        }
      },
      "source": [
        "data.shape"
      ],
      "execution_count": null,
      "outputs": [
        {
          "output_type": "execute_result",
          "data": {
            "text/plain": [
              "(1048575, 17)"
            ]
          },
          "metadata": {
            "tags": []
          },
          "execution_count": 7
        }
      ]
    },
    {
      "cell_type": "code",
      "metadata": {
        "id": "NrmDOn-SOGqt"
      },
      "source": [
        "data['pickup_time']=pd.to_datetime(data['pickup_time'])"
      ],
      "execution_count": null,
      "outputs": []
    },
    {
      "cell_type": "code",
      "metadata": {
        "id": "LZnDwak7OXMi"
      },
      "source": [
        "data['drop_time']=pd.to_datetime(data['drop_time'])"
      ],
      "execution_count": null,
      "outputs": []
    },
    {
      "cell_type": "code",
      "metadata": {
        "id": "-iTlShAZPepO"
      },
      "source": [
        "data['trip_duration']=data['drop_time']-data['pickup_time']"
      ],
      "execution_count": null,
      "outputs": []
    },
    {
      "cell_type": "code",
      "metadata": {
        "id": "UGe0DM7QTAqX"
      },
      "source": [
        "data['trip_duration'] = data['trip_duration'].astype('timedelta64[s]')"
      ],
      "execution_count": null,
      "outputs": []
    },
    {
      "cell_type": "code",
      "metadata": {
        "id": "uFvG_7v5UxOU"
      },
      "source": [
        "data.drop(['pickup_time', \"drop_time\",'ID', \"vendor_id\", \"drop_loc\", \"pickup_loc\", \"stored_flag\", \"mta_tax\", \"improvement_charge\" ], axis = 1, inplace = True) "
      ],
      "execution_count": null,
      "outputs": []
    },
    {
      "cell_type": "code",
      "metadata": {
        "id": "Rb6tdFOrXjan",
        "outputId": "73b32b07-f7de-4238-8e72-5f07c9aa560d",
        "colab": {
          "base_uri": "https://localhost:8080/",
          "height": 34
        }
      },
      "source": [
        "data.shape"
      ],
      "execution_count": null,
      "outputs": [
        {
          "output_type": "execute_result",
          "data": {
            "text/plain": [
              "(1048575, 9)"
            ]
          },
          "metadata": {
            "tags": []
          },
          "execution_count": 13
        }
      ]
    },
    {
      "cell_type": "code",
      "metadata": {
        "id": "wIQiQpnTXlTO",
        "outputId": "2fe90697-2a7e-4f2f-bde3-8174bc5ea15f",
        "colab": {
          "base_uri": "https://localhost:8080/",
          "height": 286
        }
      },
      "source": [
        "data.info()"
      ],
      "execution_count": null,
      "outputs": [
        {
          "output_type": "stream",
          "text": [
            "<class 'pandas.core.frame.DataFrame'>\n",
            "RangeIndex: 1048575 entries, 0 to 1048574\n",
            "Data columns (total 9 columns):\n",
            " #   Column          Non-Null Count    Dtype  \n",
            "---  ------          --------------    -----  \n",
            " 0   driver_tip      1048573 non-null  object \n",
            " 1   distance        1048574 non-null  float64\n",
            " 2   num_passengers  1048574 non-null  float64\n",
            " 3   toll_amount     1048573 non-null  object \n",
            " 4   payment_method  1048574 non-null  float64\n",
            " 5   rate_code       1048574 non-null  float64\n",
            " 6   extra_charges   1048574 non-null  object \n",
            " 7   total_amount    1048573 non-null  object \n",
            " 8   trip_duration   1048574 non-null  float64\n",
            "dtypes: float64(5), object(4)\n",
            "memory usage: 72.0+ MB\n"
          ],
          "name": "stdout"
        }
      ]
    },
    {
      "cell_type": "code",
      "metadata": {
        "id": "RiBrlmaiYr6r",
        "outputId": "b08b337e-a68f-41b3-d631-53c9dd327979",
        "colab": {
          "base_uri": "https://localhost:8080/",
          "height": 286
        }
      },
      "source": [
        "data.info()"
      ],
      "execution_count": null,
      "outputs": [
        {
          "output_type": "stream",
          "text": [
            "<class 'pandas.core.frame.DataFrame'>\n",
            "RangeIndex: 1048575 entries, 0 to 1048574\n",
            "Data columns (total 9 columns):\n",
            " #   Column          Non-Null Count    Dtype  \n",
            "---  ------          --------------    -----  \n",
            " 0   driver_tip      1048573 non-null  object \n",
            " 1   distance        1048574 non-null  float64\n",
            " 2   num_passengers  1048574 non-null  float64\n",
            " 3   toll_amount     1048573 non-null  object \n",
            " 4   payment_method  1048574 non-null  float64\n",
            " 5   rate_code       1048574 non-null  float64\n",
            " 6   extra_charges   1048574 non-null  object \n",
            " 7   total_amount    1048573 non-null  object \n",
            " 8   trip_duration   1048574 non-null  float64\n",
            "dtypes: float64(5), object(4)\n",
            "memory usage: 72.0+ MB\n"
          ],
          "name": "stdout"
        }
      ]
    },
    {
      "cell_type": "code",
      "metadata": {
        "id": "tjnpDyDVwjK8",
        "outputId": "b8aa93d3-f623-4e9f-c8e6-e923af62dcde",
        "colab": {
          "base_uri": "https://localhost:8080/",
          "height": 195
        }
      },
      "source": [
        "data.head()"
      ],
      "execution_count": null,
      "outputs": [
        {
          "output_type": "execute_result",
          "data": {
            "text/html": [
              "<div>\n",
              "<style scoped>\n",
              "    .dataframe tbody tr th:only-of-type {\n",
              "        vertical-align: middle;\n",
              "    }\n",
              "\n",
              "    .dataframe tbody tr th {\n",
              "        vertical-align: top;\n",
              "    }\n",
              "\n",
              "    .dataframe thead th {\n",
              "        text-align: right;\n",
              "    }\n",
              "</style>\n",
              "<table border=\"1\" class=\"dataframe\">\n",
              "  <thead>\n",
              "    <tr style=\"text-align: right;\">\n",
              "      <th></th>\n",
              "      <th>driver_tip</th>\n",
              "      <th>distance</th>\n",
              "      <th>num_passengers</th>\n",
              "      <th>toll_amount</th>\n",
              "      <th>payment_method</th>\n",
              "      <th>rate_code</th>\n",
              "      <th>extra_charges</th>\n",
              "      <th>total_amount</th>\n",
              "      <th>trip_duration</th>\n",
              "    </tr>\n",
              "  </thead>\n",
              "  <tbody>\n",
              "    <tr>\n",
              "      <th>0</th>\n",
              "      <td>1.83</td>\n",
              "      <td>0.70</td>\n",
              "      <td>1.0</td>\n",
              "      <td>0</td>\n",
              "      <td>1.0</td>\n",
              "      <td>1.0</td>\n",
              "      <td>1</td>\n",
              "      <td>9.13</td>\n",
              "      <td>321.0</td>\n",
              "    </tr>\n",
              "    <tr>\n",
              "      <th>1</th>\n",
              "      <td>3.56</td>\n",
              "      <td>4.64</td>\n",
              "      <td>1.0</td>\n",
              "      <td>0</td>\n",
              "      <td>1.0</td>\n",
              "      <td>1.0</td>\n",
              "      <td>1</td>\n",
              "      <td>21.36</td>\n",
              "      <td>990.0</td>\n",
              "    </tr>\n",
              "    <tr>\n",
              "      <th>2</th>\n",
              "      <td>1.5</td>\n",
              "      <td>1.29</td>\n",
              "      <td>2.0</td>\n",
              "      <td>0</td>\n",
              "      <td>1.0</td>\n",
              "      <td>1.0</td>\n",
              "      <td>0</td>\n",
              "      <td>8.8</td>\n",
              "      <td>377.0</td>\n",
              "    </tr>\n",
              "    <tr>\n",
              "      <th>3</th>\n",
              "      <td>1.5</td>\n",
              "      <td>2.74</td>\n",
              "      <td>1.0</td>\n",
              "      <td>0</td>\n",
              "      <td>1.0</td>\n",
              "      <td>1.0</td>\n",
              "      <td>0</td>\n",
              "      <td>14.8</td>\n",
              "      <td>968.0</td>\n",
              "    </tr>\n",
              "    <tr>\n",
              "      <th>4</th>\n",
              "      <td>0</td>\n",
              "      <td>0.45</td>\n",
              "      <td>6.0</td>\n",
              "      <td>0</td>\n",
              "      <td>2.0</td>\n",
              "      <td>1.0</td>\n",
              "      <td>0</td>\n",
              "      <td>4.8</td>\n",
              "      <td>162.0</td>\n",
              "    </tr>\n",
              "  </tbody>\n",
              "</table>\n",
              "</div>"
            ],
            "text/plain": [
              "  driver_tip  distance  ...  total_amount trip_duration\n",
              "0       1.83      0.70  ...          9.13         321.0\n",
              "1       3.56      4.64  ...         21.36         990.0\n",
              "2        1.5      1.29  ...           8.8         377.0\n",
              "3        1.5      2.74  ...          14.8         968.0\n",
              "4          0      0.45  ...           4.8         162.0\n",
              "\n",
              "[5 rows x 9 columns]"
            ]
          },
          "metadata": {
            "tags": []
          },
          "execution_count": 16
        }
      ]
    },
    {
      "cell_type": "code",
      "metadata": {
        "id": "aEREOXmZwW4L",
        "outputId": "9669ab24-4542-42d4-9605-612d6294af65",
        "colab": {
          "base_uri": "https://localhost:8080/",
          "height": 84
        }
      },
      "source": [
        "data.columns"
      ],
      "execution_count": null,
      "outputs": [
        {
          "output_type": "execute_result",
          "data": {
            "text/plain": [
              "Index(['driver_tip', 'distance', 'num_passengers', 'toll_amount',\n",
              "       'payment_method', 'rate_code', 'extra_charges', 'total_amount',\n",
              "       'trip_duration'],\n",
              "      dtype='object')"
            ]
          },
          "metadata": {
            "tags": []
          },
          "execution_count": 17
        }
      ]
    },
    {
      "cell_type": "code",
      "metadata": {
        "id": "6_E_Z3OgcFiA",
        "outputId": "e5dea29f-fa04-4ac7-ff8c-3807aca496e0",
        "colab": {
          "base_uri": "https://localhost:8080/",
          "height": 185
        }
      },
      "source": [
        "data.isnull().sum()"
      ],
      "execution_count": null,
      "outputs": [
        {
          "output_type": "execute_result",
          "data": {
            "text/plain": [
              "driver_tip        2\n",
              "distance          1\n",
              "num_passengers    1\n",
              "toll_amount       2\n",
              "payment_method    1\n",
              "rate_code         1\n",
              "extra_charges     1\n",
              "total_amount      2\n",
              "trip_duration     1\n",
              "dtype: int64"
            ]
          },
          "metadata": {
            "tags": []
          },
          "execution_count": 18
        }
      ]
    },
    {
      "cell_type": "code",
      "metadata": {
        "id": "mkRRPyIgdEIU",
        "outputId": "104cf38e-e147-4419-cb08-ed4033761388",
        "colab": {
          "base_uri": "https://localhost:8080/",
          "height": 34
        }
      },
      "source": [
        "data.isnull().sum().sum()"
      ],
      "execution_count": null,
      "outputs": [
        {
          "output_type": "execute_result",
          "data": {
            "text/plain": [
              "12"
            ]
          },
          "metadata": {
            "tags": []
          },
          "execution_count": 19
        }
      ]
    },
    {
      "cell_type": "code",
      "metadata": {
        "id": "tCznFpIVmBgu",
        "outputId": "146665ea-9dd1-4059-9c76-ba56d7f2b723",
        "colab": {
          "base_uri": "https://localhost:8080/",
          "height": 34
        }
      },
      "source": [
        "cat_cols = [\"driver_tip\", \"toll_amount\", \"extra_charges\", \"total_amount\"]\n",
        "num_cols = [c for c in data.columns if c not in cat_cols]\n",
        "print (num_cols)"
      ],
      "execution_count": null,
      "outputs": [
        {
          "output_type": "stream",
          "text": [
            "['distance', 'num_passengers', 'payment_method', 'rate_code', 'trip_duration']\n"
          ],
          "name": "stdout"
        }
      ]
    },
    {
      "cell_type": "code",
      "metadata": {
        "id": "ZDrRws0Xo4_q"
      },
      "source": [
        "for c in num_cols :\n",
        "  data[c].fillna((data[c].mean()),inplace=True)"
      ],
      "execution_count": null,
      "outputs": []
    },
    {
      "cell_type": "code",
      "metadata": {
        "id": "CZT2ZNLvqHrp",
        "outputId": "0c27153d-e5d3-44ab-86af-ab95d010fe54",
        "colab": {
          "base_uri": "https://localhost:8080/",
          "height": 185
        }
      },
      "source": [
        "data.isnull().sum()"
      ],
      "execution_count": null,
      "outputs": [
        {
          "output_type": "execute_result",
          "data": {
            "text/plain": [
              "driver_tip        2\n",
              "distance          0\n",
              "num_passengers    0\n",
              "toll_amount       2\n",
              "payment_method    0\n",
              "rate_code         0\n",
              "extra_charges     1\n",
              "total_amount      2\n",
              "trip_duration     0\n",
              "dtype: int64"
            ]
          },
          "metadata": {
            "tags": []
          },
          "execution_count": 22
        }
      ]
    },
    {
      "cell_type": "code",
      "metadata": {
        "id": "K9rm_0pCUAbG",
        "outputId": "9667ada2-d814-4ec2-de14-38cd175993d4",
        "colab": {
          "base_uri": "https://localhost:8080/",
          "height": 286
        }
      },
      "source": [
        "data.info()"
      ],
      "execution_count": null,
      "outputs": [
        {
          "output_type": "stream",
          "text": [
            "<class 'pandas.core.frame.DataFrame'>\n",
            "RangeIndex: 1048575 entries, 0 to 1048574\n",
            "Data columns (total 9 columns):\n",
            " #   Column          Non-Null Count    Dtype  \n",
            "---  ------          --------------    -----  \n",
            " 0   driver_tip      1048573 non-null  object \n",
            " 1   distance        1048575 non-null  float64\n",
            " 2   num_passengers  1048575 non-null  float64\n",
            " 3   toll_amount     1048573 non-null  object \n",
            " 4   payment_method  1048575 non-null  float64\n",
            " 5   rate_code       1048575 non-null  float64\n",
            " 6   extra_charges   1048574 non-null  object \n",
            " 7   total_amount    1048573 non-null  object \n",
            " 8   trip_duration   1048575 non-null  float64\n",
            "dtypes: float64(5), object(4)\n",
            "memory usage: 72.0+ MB\n"
          ],
          "name": "stdout"
        }
      ]
    },
    {
      "cell_type": "code",
      "metadata": {
        "id": "FJ9KXYTjUGFM"
      },
      "source": [
        "for c in cat_cols :\n",
        "  data[c] = pd.to_numeric(data[c], errors='coerce')"
      ],
      "execution_count": null,
      "outputs": []
    },
    {
      "cell_type": "code",
      "metadata": {
        "id": "hiLA46eBU0Hr",
        "outputId": "99bda906-fe66-413a-f051-d6d25552761d",
        "colab": {
          "base_uri": "https://localhost:8080/",
          "height": 286
        }
      },
      "source": [
        "data.info()"
      ],
      "execution_count": null,
      "outputs": [
        {
          "output_type": "stream",
          "text": [
            "<class 'pandas.core.frame.DataFrame'>\n",
            "RangeIndex: 1048575 entries, 0 to 1048574\n",
            "Data columns (total 9 columns):\n",
            " #   Column          Non-Null Count    Dtype  \n",
            "---  ------          --------------    -----  \n",
            " 0   driver_tip      1048561 non-null  float64\n",
            " 1   distance        1048575 non-null  float64\n",
            " 2   num_passengers  1048575 non-null  float64\n",
            " 3   toll_amount     1048571 non-null  float64\n",
            " 4   payment_method  1048575 non-null  float64\n",
            " 5   rate_code       1048575 non-null  float64\n",
            " 6   extra_charges   1048350 non-null  float64\n",
            " 7   total_amount    1048052 non-null  float64\n",
            " 8   trip_duration   1048575 non-null  float64\n",
            "dtypes: float64(9)\n",
            "memory usage: 72.0 MB\n"
          ],
          "name": "stdout"
        }
      ]
    },
    {
      "cell_type": "code",
      "metadata": {
        "id": "40zBqCt-U3Jq",
        "outputId": "4ddbc2c5-83c8-4716-b704-abe974f6a97b",
        "colab": {
          "base_uri": "https://localhost:8080/",
          "height": 34
        }
      },
      "source": [
        "data.isnull().sum().sum()"
      ],
      "execution_count": null,
      "outputs": [
        {
          "output_type": "execute_result",
          "data": {
            "text/plain": [
              "766"
            ]
          },
          "metadata": {
            "tags": []
          },
          "execution_count": 26
        }
      ]
    },
    {
      "cell_type": "code",
      "metadata": {
        "id": "aayEreVsVA6b"
      },
      "source": [
        "data.dropna(inplace= True)"
      ],
      "execution_count": null,
      "outputs": []
    },
    {
      "cell_type": "code",
      "metadata": {
        "id": "cnvpipECVJOo",
        "outputId": "1fdeb21a-ec11-487d-8344-ca0da86b52df",
        "colab": {
          "base_uri": "https://localhost:8080/",
          "height": 34
        }
      },
      "source": [
        "data.shape"
      ],
      "execution_count": null,
      "outputs": [
        {
          "output_type": "execute_result",
          "data": {
            "text/plain": [
              "(1048052, 9)"
            ]
          },
          "metadata": {
            "tags": []
          },
          "execution_count": 28
        }
      ]
    },
    {
      "cell_type": "code",
      "metadata": {
        "id": "oSKWZqItIw5Q"
      },
      "source": [
        "y=data['total_amount']"
      ],
      "execution_count": null,
      "outputs": []
    },
    {
      "cell_type": "code",
      "metadata": {
        "id": "_Ev-p--IJFgf"
      },
      "source": [
        "data.drop([\"total_amount\"], axis=1, inplace = True)"
      ],
      "execution_count": null,
      "outputs": []
    },
    {
      "cell_type": "code",
      "metadata": {
        "id": "lqJVboZqVR_q",
        "outputId": "b0d77b8a-ae33-4b0c-a858-df1871e787c0",
        "colab": {
          "base_uri": "https://localhost:8080/",
          "height": 34
        }
      },
      "source": [
        "data.shape"
      ],
      "execution_count": null,
      "outputs": [
        {
          "output_type": "execute_result",
          "data": {
            "text/plain": [
              "(1048052, 8)"
            ]
          },
          "metadata": {
            "tags": []
          },
          "execution_count": 31
        }
      ]
    },
    {
      "cell_type": "code",
      "metadata": {
        "id": "WkYfQGjtVUD-"
      },
      "source": [
        "from xgboost import XGBRegressor\n",
        "train_x,test_x,train_y,test_y=train_test_split(data,y,test_size=.075,random_state=42)"
      ],
      "execution_count": null,
      "outputs": []
    },
    {
      "cell_type": "code",
      "metadata": {
        "id": "kHkWo-NqVqIa",
        "outputId": "cc60c4f8-d7dc-4a4a-f02d-e70ad3b9fc5f",
        "colab": {
          "base_uri": "https://localhost:8080/",
          "height": 151
        }
      },
      "source": [
        "model = XGBRegressor(max_depth=8, n_estimators = 750, learning_rate= 0.025,random_state=42)\n",
        "model.fit(train_x,train_y)"
      ],
      "execution_count": null,
      "outputs": [
        {
          "output_type": "stream",
          "text": [
            "[12:43:45] WARNING: /workspace/src/objective/regression_obj.cu:152: reg:linear is now deprecated in favor of reg:squarederror.\n"
          ],
          "name": "stdout"
        },
        {
          "output_type": "execute_result",
          "data": {
            "text/plain": [
              "XGBRegressor(base_score=0.5, booster='gbtree', colsample_bylevel=1,\n",
              "             colsample_bynode=1, colsample_bytree=1, gamma=0,\n",
              "             importance_type='gain', learning_rate=0.025, max_delta_step=0,\n",
              "             max_depth=8, min_child_weight=1, missing=None, n_estimators=750,\n",
              "             n_jobs=1, nthread=None, objective='reg:linear', random_state=42,\n",
              "             reg_alpha=0, reg_lambda=1, scale_pos_weight=1, seed=None,\n",
              "             silent=None, subsample=1, verbosity=1)"
            ]
          },
          "metadata": {
            "tags": []
          },
          "execution_count": 33
        }
      ]
    },
    {
      "cell_type": "code",
      "metadata": {
        "id": "-bSmVAFWV0ZV",
        "outputId": "40d35de1-a14d-4d13-9458-2c6761ce807f",
        "colab": {
          "base_uri": "https://localhost:8080/",
          "height": 34
        }
      },
      "source": [
        "model.score(train_x,train_y)"
      ],
      "execution_count": null,
      "outputs": [
        {
          "output_type": "execute_result",
          "data": {
            "text/plain": [
              "0.9796472317168103"
            ]
          },
          "metadata": {
            "tags": []
          },
          "execution_count": 34
        }
      ]
    },
    {
      "cell_type": "code",
      "metadata": {
        "id": "4mQoL7_GWhpC",
        "outputId": "62bdb07f-db52-4877-8f07-ceebf937f7d2",
        "colab": {
          "base_uri": "https://localhost:8080/",
          "height": 34
        }
      },
      "source": [
        "model.score(test_x,test_y)"
      ],
      "execution_count": null,
      "outputs": [
        {
          "output_type": "execute_result",
          "data": {
            "text/plain": [
              "0.972736650078062"
            ]
          },
          "metadata": {
            "tags": []
          },
          "execution_count": 35
        }
      ]
    },
    {
      "cell_type": "code",
      "metadata": {
        "id": "_lQvSOdL_DnJ"
      },
      "source": [
        "test=pd.read_csv(\"test.csv\")"
      ],
      "execution_count": null,
      "outputs": []
    },
    {
      "cell_type": "code",
      "metadata": {
        "id": "Qu2jlirX_EmJ"
      },
      "source": [
        "test['pickup_time']=pd.to_datetime(test['pickup_time'])\n",
        "test['drop_time']=pd.to_datetime(test['drop_time'])\n",
        "test['trip_duration']=test['drop_time']-test['pickup_time']\n",
        "test['trip_duration'] = test['trip_duration'].astype('timedelta64[s]')"
      ],
      "execution_count": null,
      "outputs": []
    },
    {
      "cell_type": "code",
      "metadata": {
        "id": "iVZl8Dj4_pIM",
        "outputId": "54084712-f51a-4347-fac6-357910db79a0",
        "colab": {
          "base_uri": "https://localhost:8080/",
          "height": 34
        }
      },
      "source": [
        "test.shape"
      ],
      "execution_count": null,
      "outputs": [
        {
          "output_type": "execute_result",
          "data": {
            "text/plain": [
              "(154235, 8)"
            ]
          },
          "metadata": {
            "tags": []
          },
          "execution_count": 48
        }
      ]
    },
    {
      "cell_type": "code",
      "metadata": {
        "id": "kr_qlhDNAAJW",
        "outputId": "e9725689-7947-4cc8-9079-c383c092bc7b",
        "colab": {
          "base_uri": "https://localhost:8080/",
          "height": 269
        }
      },
      "source": [
        "test.info()"
      ],
      "execution_count": null,
      "outputs": [
        {
          "output_type": "stream",
          "text": [
            "<class 'pandas.core.frame.DataFrame'>\n",
            "RangeIndex: 154235 entries, 0 to 154234\n",
            "Data columns (total 8 columns):\n",
            " #   Column          Non-Null Count   Dtype  \n",
            "---  ------          --------------   -----  \n",
            " 0   driver_tip      154235 non-null  float64\n",
            " 1   distance        154235 non-null  float64\n",
            " 2   num_passengers  154235 non-null  float64\n",
            " 3   toll_amount     154235 non-null  float64\n",
            " 4   payment_method  154235 non-null  float64\n",
            " 5   rate_code       154235 non-null  float64\n",
            " 6   extra_charges   154235 non-null  float64\n",
            " 7   trip_duration   154235 non-null  float64\n",
            "dtypes: float64(8)\n",
            "memory usage: 9.4 MB\n"
          ],
          "name": "stdout"
        }
      ]
    },
    {
      "cell_type": "code",
      "metadata": {
        "id": "5u-kCAC6AElT"
      },
      "source": [
        "test.drop(['pickup_time', \"drop_time\",'ID', \"vendor_id\", \"drop_loc\", \"pickup_loc\", \"stored_flag\", \"mta_tax\", \"improvement_charge\" ], axis = 1, inplace = True)"
      ],
      "execution_count": null,
      "outputs": []
    },
    {
      "cell_type": "code",
      "metadata": {
        "id": "TpCysIldAL-z",
        "outputId": "3423ab62-4c4a-4088-ea37-fce22264ca5c",
        "colab": {
          "base_uri": "https://localhost:8080/",
          "height": 34
        }
      },
      "source": [
        "test.shape"
      ],
      "execution_count": null,
      "outputs": [
        {
          "output_type": "execute_result",
          "data": {
            "text/plain": [
              "(154235, 8)"
            ]
          },
          "metadata": {
            "tags": []
          },
          "execution_count": 41
        }
      ]
    },
    {
      "cell_type": "code",
      "metadata": {
        "id": "nhdpEjvwANxI",
        "outputId": "60740a2d-42f3-4c80-af1c-acb0fe8059b1",
        "colab": {
          "base_uri": "https://localhost:8080/",
          "height": 269
        }
      },
      "source": [
        "test.info()"
      ],
      "execution_count": null,
      "outputs": [
        {
          "output_type": "stream",
          "text": [
            "<class 'pandas.core.frame.DataFrame'>\n",
            "RangeIndex: 154235 entries, 0 to 154234\n",
            "Data columns (total 8 columns):\n",
            " #   Column          Non-Null Count   Dtype  \n",
            "---  ------          --------------   -----  \n",
            " 0   driver_tip      154235 non-null  float64\n",
            " 1   distance        154235 non-null  float64\n",
            " 2   num_passengers  154235 non-null  float64\n",
            " 3   toll_amount     154235 non-null  float64\n",
            " 4   payment_method  154235 non-null  float64\n",
            " 5   rate_code       154235 non-null  float64\n",
            " 6   extra_charges   154235 non-null  float64\n",
            " 7   trip_duration   154235 non-null  float64\n",
            "dtypes: float64(8)\n",
            "memory usage: 9.4 MB\n"
          ],
          "name": "stdout"
        }
      ]
    },
    {
      "cell_type": "code",
      "metadata": {
        "id": "KOOvxd1IAOws"
      },
      "source": [
        "predict = model.predict(test)"
      ],
      "execution_count": null,
      "outputs": []
    },
    {
      "cell_type": "code",
      "metadata": {
        "id": "P6KC_EjJAYyY"
      },
      "source": [
        "ID = np.arange(154235)"
      ],
      "execution_count": null,
      "outputs": []
    },
    {
      "cell_type": "code",
      "metadata": {
        "id": "ZT7zJ_w-Bd_P",
        "outputId": "55a4a957-7243-4a8b-fc5c-c714ecaec310",
        "colab": {
          "base_uri": "https://localhost:8080/",
          "height": 34
        }
      },
      "source": [
        "len(ID)"
      ],
      "execution_count": null,
      "outputs": [
        {
          "output_type": "execute_result",
          "data": {
            "text/plain": [
              "154235"
            ]
          },
          "metadata": {
            "tags": []
          },
          "execution_count": 45
        }
      ]
    },
    {
      "cell_type": "code",
      "metadata": {
        "id": "d7QI0ugpBgC7"
      },
      "source": [
        "df = pd.DataFrame({\"ID\" : ID,\n",
        "                   \"total_amount\" : predict}, columns = [\"ID\", \"total_amount\"]).set_index(\"ID\")"
      ],
      "execution_count": null,
      "outputs": []
    },
    {
      "cell_type": "code",
      "metadata": {
        "id": "dB4dhRZnHE23",
        "outputId": "237c80d1-f549-40ce-e5e0-f5fb70bfe636",
        "colab": {
          "base_uri": "https://localhost:8080/",
          "height": 225
        }
      },
      "source": [
        "df.head()"
      ],
      "execution_count": null,
      "outputs": [
        {
          "output_type": "execute_result",
          "data": {
            "text/html": [
              "<div>\n",
              "<style scoped>\n",
              "    .dataframe tbody tr th:only-of-type {\n",
              "        vertical-align: middle;\n",
              "    }\n",
              "\n",
              "    .dataframe tbody tr th {\n",
              "        vertical-align: top;\n",
              "    }\n",
              "\n",
              "    .dataframe thead th {\n",
              "        text-align: right;\n",
              "    }\n",
              "</style>\n",
              "<table border=\"1\" class=\"dataframe\">\n",
              "  <thead>\n",
              "    <tr style=\"text-align: right;\">\n",
              "      <th></th>\n",
              "      <th>total_amount</th>\n",
              "    </tr>\n",
              "    <tr>\n",
              "      <th>ID</th>\n",
              "      <th></th>\n",
              "    </tr>\n",
              "  </thead>\n",
              "  <tbody>\n",
              "    <tr>\n",
              "      <th>0</th>\n",
              "      <td>7.286537</td>\n",
              "    </tr>\n",
              "    <tr>\n",
              "      <th>1</th>\n",
              "      <td>15.135538</td>\n",
              "    </tr>\n",
              "    <tr>\n",
              "      <th>2</th>\n",
              "      <td>17.499432</td>\n",
              "    </tr>\n",
              "    <tr>\n",
              "      <th>3</th>\n",
              "      <td>8.495472</td>\n",
              "    </tr>\n",
              "    <tr>\n",
              "      <th>4</th>\n",
              "      <td>7.960011</td>\n",
              "    </tr>\n",
              "  </tbody>\n",
              "</table>\n",
              "</div>"
            ],
            "text/plain": [
              "    total_amount\n",
              "ID              \n",
              "0       7.286537\n",
              "1      15.135538\n",
              "2      17.499432\n",
              "3       8.495472\n",
              "4       7.960011"
            ]
          },
          "metadata": {
            "tags": []
          },
          "execution_count": 47
        }
      ]
    }
  ]
}